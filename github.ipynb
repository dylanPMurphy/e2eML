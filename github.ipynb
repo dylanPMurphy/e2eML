{
 "cells": [
  {
   "cell_type": "code",
   "execution_count": 1,
   "metadata": {},
   "outputs": [],
   "source": [
    "import pandas as pd\n",
    "import os"
   ]
  },
  {
   "cell_type": "code",
   "execution_count": 10,
   "metadata": {},
   "outputs": [],
   "source": [
    "GITHUB_PATH = os.path.join(\"datasets\", \"github\")\n",
    "import pandas as pd\n",
    "def load_github_data(github_path=GITHUB_PATH):\n",
    "    json_path = os.path.join(github_path, \"issue_events_000001.json\")\n",
    "    return pd.read_json(json_path)"
   ]
  },
  {
   "cell_type": "code",
   "execution_count": 11,
   "metadata": {},
   "outputs": [],
   "source": [
    "github_actions = load_github_data()"
   ]
  },
  {
   "cell_type": "code",
   "execution_count": 12,
   "metadata": {},
   "outputs": [
    {
     "data": {
      "text/html": [
       "<div>\n",
       "<style scoped>\n",
       "    .dataframe tbody tr th:only-of-type {\n",
       "        vertical-align: middle;\n",
       "    }\n",
       "\n",
       "    .dataframe tbody tr th {\n",
       "        vertical-align: top;\n",
       "    }\n",
       "\n",
       "    .dataframe thead th {\n",
       "        text-align: right;\n",
       "    }\n",
       "</style>\n",
       "<table border=\"1\" class=\"dataframe\">\n",
       "  <thead>\n",
       "    <tr style=\"text-align: right;\">\n",
       "      <th></th>\n",
       "      <th>type</th>\n",
       "      <th>url</th>\n",
       "      <th>pull_request</th>\n",
       "      <th>actor</th>\n",
       "      <th>event</th>\n",
       "      <th>commit_id</th>\n",
       "      <th>commit_repository</th>\n",
       "      <th>created_at</th>\n",
       "      <th>subject</th>\n",
       "    </tr>\n",
       "  </thead>\n",
       "  <tbody>\n",
       "    <tr>\n",
       "      <th>0</th>\n",
       "      <td>issue_event</td>\n",
       "      <td>https://github.com/dylanPMurphy/DylanMurphy.co...</td>\n",
       "      <td>https://github.com/dylanPMurphy/DylanMurphy.co...</td>\n",
       "      <td>https://github.com/dylanPMurphy</td>\n",
       "      <td>referenced</td>\n",
       "      <td>31e3d63f4b73382fd0d42aff895b12c77a4870d3</td>\n",
       "      <td>https://github.com/dylanPMurphy/DylanMurphy.com</td>\n",
       "      <td>2019-03-14 05:47:36+00:00</td>\n",
       "      <td>NaN</td>\n",
       "    </tr>\n",
       "    <tr>\n",
       "      <th>1</th>\n",
       "      <td>issue_event</td>\n",
       "      <td>https://github.com/dylanPMurphy/DylanMurphy.co...</td>\n",
       "      <td>https://github.com/dylanPMurphy/DylanMurphy.co...</td>\n",
       "      <td>https://github.com/dylanPMurphy</td>\n",
       "      <td>merged</td>\n",
       "      <td>31e3d63f4b73382fd0d42aff895b12c77a4870d3</td>\n",
       "      <td>NaN</td>\n",
       "      <td>2019-03-14 05:47:36+00:00</td>\n",
       "      <td>NaN</td>\n",
       "    </tr>\n",
       "    <tr>\n",
       "      <th>2</th>\n",
       "      <td>issue_event</td>\n",
       "      <td>https://github.com/dylanPMurphy/DylanMurphy.co...</td>\n",
       "      <td>https://github.com/dylanPMurphy/DylanMurphy.co...</td>\n",
       "      <td>https://github.com/dylanPMurphy</td>\n",
       "      <td>closed</td>\n",
       "      <td>NaN</td>\n",
       "      <td>NaN</td>\n",
       "      <td>2019-03-14 05:47:36+00:00</td>\n",
       "      <td>NaN</td>\n",
       "    </tr>\n",
       "    <tr>\n",
       "      <th>3</th>\n",
       "      <td>issue_event</td>\n",
       "      <td>https://github.com/dylanPMurphy/Igor/pull/1#ev...</td>\n",
       "      <td>https://github.com/dylanPMurphy/Igor/pull/1</td>\n",
       "      <td>https://github.com/dylanPMurphy</td>\n",
       "      <td>referenced</td>\n",
       "      <td>11239d33edb0925654d96e77fa2ba576b4e8e56f</td>\n",
       "      <td>https://github.com/dylanPMurphy/Igor</td>\n",
       "      <td>2020-11-19 02:46:41+00:00</td>\n",
       "      <td>NaN</td>\n",
       "    </tr>\n",
       "    <tr>\n",
       "      <th>4</th>\n",
       "      <td>issue_event</td>\n",
       "      <td>https://github.com/dylanPMurphy/Igor/pull/1#ev...</td>\n",
       "      <td>https://github.com/dylanPMurphy/Igor/pull/1</td>\n",
       "      <td>https://github.com/dylanPMurphy</td>\n",
       "      <td>merged</td>\n",
       "      <td>11239d33edb0925654d96e77fa2ba576b4e8e56f</td>\n",
       "      <td>NaN</td>\n",
       "      <td>2020-11-19 02:46:41+00:00</td>\n",
       "      <td>NaN</td>\n",
       "    </tr>\n",
       "  </tbody>\n",
       "</table>\n",
       "</div>"
      ],
      "text/plain": [
       "          type                                                url  \\\n",
       "0  issue_event  https://github.com/dylanPMurphy/DylanMurphy.co...   \n",
       "1  issue_event  https://github.com/dylanPMurphy/DylanMurphy.co...   \n",
       "2  issue_event  https://github.com/dylanPMurphy/DylanMurphy.co...   \n",
       "3  issue_event  https://github.com/dylanPMurphy/Igor/pull/1#ev...   \n",
       "4  issue_event  https://github.com/dylanPMurphy/Igor/pull/1#ev...   \n",
       "\n",
       "                                        pull_request  \\\n",
       "0  https://github.com/dylanPMurphy/DylanMurphy.co...   \n",
       "1  https://github.com/dylanPMurphy/DylanMurphy.co...   \n",
       "2  https://github.com/dylanPMurphy/DylanMurphy.co...   \n",
       "3        https://github.com/dylanPMurphy/Igor/pull/1   \n",
       "4        https://github.com/dylanPMurphy/Igor/pull/1   \n",
       "\n",
       "                             actor       event  \\\n",
       "0  https://github.com/dylanPMurphy  referenced   \n",
       "1  https://github.com/dylanPMurphy      merged   \n",
       "2  https://github.com/dylanPMurphy      closed   \n",
       "3  https://github.com/dylanPMurphy  referenced   \n",
       "4  https://github.com/dylanPMurphy      merged   \n",
       "\n",
       "                                  commit_id  \\\n",
       "0  31e3d63f4b73382fd0d42aff895b12c77a4870d3   \n",
       "1  31e3d63f4b73382fd0d42aff895b12c77a4870d3   \n",
       "2                                       NaN   \n",
       "3  11239d33edb0925654d96e77fa2ba576b4e8e56f   \n",
       "4  11239d33edb0925654d96e77fa2ba576b4e8e56f   \n",
       "\n",
       "                                 commit_repository                created_at  \\\n",
       "0  https://github.com/dylanPMurphy/DylanMurphy.com 2019-03-14 05:47:36+00:00   \n",
       "1                                              NaN 2019-03-14 05:47:36+00:00   \n",
       "2                                              NaN 2019-03-14 05:47:36+00:00   \n",
       "3             https://github.com/dylanPMurphy/Igor 2020-11-19 02:46:41+00:00   \n",
       "4                                              NaN 2020-11-19 02:46:41+00:00   \n",
       "\n",
       "  subject  \n",
       "0     NaN  \n",
       "1     NaN  \n",
       "2     NaN  \n",
       "3     NaN  \n",
       "4     NaN  "
      ]
     },
     "execution_count": 12,
     "metadata": {},
     "output_type": "execute_result"
    }
   ],
   "source": [
    "github_actions.head()"
   ]
  },
  {
   "cell_type": "code",
   "execution_count": 13,
   "metadata": {},
   "outputs": [],
   "source": [
    "import matplotlib.pyplot as plt"
   ]
  },
  {
   "cell_type": "code",
   "execution_count": 17,
   "metadata": {},
   "outputs": [
    {
     "data": {
      "text/plain": [
       "43"
      ]
     },
     "execution_count": 17,
     "metadata": {},
     "output_type": "execute_result"
    }
   ],
   "source": [
    "github_actions[\"event\"].count()"
   ]
  },
  {
   "cell_type": "code",
   "execution_count": null,
   "metadata": {},
   "outputs": [],
   "source": []
  }
 ],
 "metadata": {
  "kernelspec": {
   "display_name": "Python 3",
   "language": "python",
   "name": "python3"
  },
  "language_info": {
   "codemirror_mode": {
    "name": "ipython",
    "version": 3
   },
   "file_extension": ".py",
   "mimetype": "text/x-python",
   "name": "python",
   "nbconvert_exporter": "python",
   "pygments_lexer": "ipython3",
   "version": "3.8.5"
  }
 },
 "nbformat": 4,
 "nbformat_minor": 4
}
